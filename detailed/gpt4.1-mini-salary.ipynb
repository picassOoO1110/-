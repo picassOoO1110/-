{
 "cells": [
  {
   "cell_type": "code",
   "execution_count": 1,
   "id": "21ab7d66",
   "metadata": {},
   "outputs": [],
   "source": [
    "import pandas as pd\n",
    "from bs4 import BeautifulSoup\n",
    "from openai import OpenAI"
   ]
  },
  {
   "cell_type": "code",
   "execution_count": null,
   "id": "c22921c3",
   "metadata": {},
   "outputs": [],
   "source": [
    "client = OpenAI(api_key=\"your_key\")\n"
   ]
  },
  {
   "cell_type": "code",
   "execution_count": 3,
   "id": "30364c5e",
   "metadata": {},
   "outputs": [],
   "source": [
    "def clean_html(raw_html):\n",
    "    if pd.isna(raw_html):\n",
    "        return \"\"\n",
    "    soup = BeautifulSoup(raw_html, \"html.parser\")\n",
    "    return soup.get_text(separator=\" \", strip=True)"
   ]
  },
  {
   "cell_type": "code",
   "execution_count": 4,
   "id": "37297c9e",
   "metadata": {},
   "outputs": [],
   "source": [
    "train_df = pd.read_csv(r\"C:\\\\Users\\\\lu17w\\\\Downloads\\\\job_data_files\\\\salary_labelled_development_set.csv\")  "
   ]
  },
  {
   "cell_type": "code",
   "execution_count": 5,
   "id": "62226366",
   "metadata": {},
   "outputs": [],
   "source": [
    "def row_to_text(row, include_label=True):\n",
    "    job_title = row[\"job_title\"]\n",
    "    # job_details = row[\"job_ad_details\"]\n",
    "    job_details = clean_html(row[\"job_ad_details\"])\n",
    "\n",
    "    location = row[\"nation_short_desc\"]\n",
    "\n",
    "    base_text = f\"Job Title: {job_title}\\nJob Description: {job_details}\\nLocation: {location}\"\n",
    "    if include_label:\n",
    "        base_text += f\"\\ny_true: {row['y_true']}\"\n",
    "    return base_text"
   ]
  },
  {
   "cell_type": "code",
   "execution_count": 6,
   "id": "ea365bf1",
   "metadata": {},
   "outputs": [],
   "source": [
    "shots = \"\\n\\n\".join([f\"example{i+1}：\\n{row_to_text(train_df.iloc[i])}\" for i in range(10)])"
   ]
  },
  {
   "cell_type": "code",
   "execution_count": 7,
   "id": "71d48409",
   "metadata": {},
   "outputs": [
    {
     "name": "stdout",
     "output_type": "stream",
     "text": [
      "100, save result to：gpt4mini/gpt-4.1-mini-salary_predictions_nohtmlcustom.csv\n",
      "200, save result to：gpt4mini/gpt-4.1-mini-salary_predictions_nohtmlcustom.csv\n",
      "300, save result to：gpt4mini/gpt-4.1-mini-salary_predictions_nohtmlcustom.csv\n",
      "400, save result to：gpt4mini/gpt-4.1-mini-salary_predictions_nohtmlcustom.csv\n",
      "500, save result to：gpt4mini/gpt-4.1-mini-salary_predictions_nohtmlcustom.csv\n"
     ]
    }
   ],
   "source": [
    "test_df = pd.read_csv(\"C:\\\\Users\\\\lu17w\\\\Downloads\\\\job_data_files\\\\salary_labelled_test_set.csv\")\n",
    "\n",
    "test_df[\"predicted\"] = \"\"\n",
    "test_df[\"true_label\"] = test_df[\"y_true\"].astype(str)\n",
    "results = []\n",
    "correct = 0\n",
    "\n",
    "for i, row in test_df.iterrows():\n",
    "    query = f\"query：\\n{row_to_text(row, include_label=False)}\\nyour_predict：y_true =\"\n",
    "\n",
    "    user_prompt = (\n",
    "        \"You are a classification assistant. Below are some job descriptions along with their corresponding salaries (y_true)：\\n\\n\"\n",
    "        \"Please only give me answer, no more other things. The structure should be like 100-200-AUS-MONTHLY. (No commas are required between numbers)\"\n",
    "        \"If you think there is no mention of salary, please give me 0-0-None-None.\"\n",
    "        \"Do not give me things like y_true = 0-0-None-None, only give me answer, like 0-0-None-None\"\n",
    "        # f\"{shots}\\n\\n{query}\"\n",
    "        f\"{query}\"\n",
    "    )\n",
    "\n",
    "    messages = [\n",
    "        {\"role\": \"user\", \"content\": user_prompt}\n",
    "    ]\n",
    "\n",
    "    response = client.chat.completions.create(\n",
    "        model=\"ft:gpt-4.1-mini-2025-04-14:personal:6713:BQuQ64ON\",\n",
    "        messages=messages,\n",
    "        max_tokens=30,\n",
    "        temperature=0.7\n",
    "    )\n",
    "\n",
    "    prediction = response.choices[0].message.content.strip().split(\"\\n\")[0]\n",
    "\n",
    "    results.append({\n",
    "        \"index\": i,\n",
    "        \"predicted\": prediction,\n",
    "        \"true_label\": str(row[\"y_true\"])\n",
    "    })\n",
    "    if prediction == str(row[\"y_true\"]):\n",
    "        correct += 1\n",
    "    if (i + 1) % 100 == 0:\n",
    "        checkpoint_df = pd.DataFrame(results)\n",
    "        filename = f\"gpt4mini/gpt-4.1-mini-salary_predictions_nohtmlcustom.csv\"\n",
    "        checkpoint_df.to_csv(filename, index=False)\n",
    "        print(f\"{i+1}, save result to：{filename}\")\n",
    "    number = i+1\n",
    "    # if i>1:\n",
    "    #     break\n",
    "\n",
    "filename = f\"gpt4mini/gpt-4.1-mini-salary_predictions_nohtmlcustom.csv\"\n",
    "final_df = pd.DataFrame(results)\n",
    "final_df.to_csv(filename, index=False)"
   ]
  },
  {
   "cell_type": "code",
   "execution_count": 8,
   "id": "a154244c",
   "metadata": {},
   "outputs": [
    {
     "data": {
      "text/plain": [
       "496"
      ]
     },
     "execution_count": 8,
     "metadata": {},
     "output_type": "execute_result"
    }
   ],
   "source": [
    "correct"
   ]
  },
  {
   "cell_type": "code",
   "execution_count": 9,
   "id": "9e26ed57",
   "metadata": {},
   "outputs": [
    {
     "data": {
      "text/plain": [
       "567"
      ]
     },
     "execution_count": 9,
     "metadata": {},
     "output_type": "execute_result"
    }
   ],
   "source": [
    "number"
   ]
  },
  {
   "cell_type": "code",
   "execution_count": 10,
   "id": "da8b0450",
   "metadata": {},
   "outputs": [
    {
     "name": "stdout",
     "output_type": "stream",
     "text": [
      "accuracy：87.48%\n",
      "save result to：gpt4mini/gpt-4.1-mini-salary_predictions_nohtmlcustom.csv\n"
     ]
    }
   ],
   "source": [
    "accuracy = correct / number\n",
    "print(f\"accuracy：{accuracy:.2%}\")\n",
    "print(f\"save result to：{filename}\")\n"
   ]
  }
 ],
 "metadata": {
  "kernelspec": {
   "display_name": "Python 3",
   "language": "python",
   "name": "python3"
  },
  "language_info": {
   "codemirror_mode": {
    "name": "ipython",
    "version": 3
   },
   "file_extension": ".py",
   "mimetype": "text/x-python",
   "name": "python",
   "nbconvert_exporter": "python",
   "pygments_lexer": "ipython3",
   "version": "3.11.0"
  }
 },
 "nbformat": 4,
 "nbformat_minor": 5
}
