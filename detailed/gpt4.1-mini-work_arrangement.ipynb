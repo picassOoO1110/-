{
 "cells": [
  {
   "cell_type": "code",
   "execution_count": 1,
   "id": "21ab7d66",
   "metadata": {},
   "outputs": [],
   "source": [
    "import pandas as pd\n",
    "from bs4 import BeautifulSoup\n",
    "from openai import OpenAI"
   ]
  },
  {
   "cell_type": "code",
   "execution_count": null,
   "id": "c22921c3",
   "metadata": {},
   "outputs": [],
   "source": [
    "client = OpenAI(api_key=\"your_key\")\n"
   ]
  },
  {
   "cell_type": "code",
   "execution_count": 3,
   "id": "37297c9e",
   "metadata": {},
   "outputs": [],
   "source": [
    "train_df = pd.read_csv(r\"C:\\\\Users\\\\lu17w\\\\Downloads\\\\job_data_files\\\\work_arrangements_development_set.csv\")  "
   ]
  },
  {
   "cell_type": "code",
   "execution_count": 4,
   "id": "62226366",
   "metadata": {},
   "outputs": [],
   "source": [
    "def row_to_text(row, include_label=True):\n",
    "    base = (\n",
    "        f\"job_ad: {row['job_ad']}\\n\"\n",
    "        # f\"work arrangement: {row['y_true']}\"\n",
    "    )\n",
    "    return base + (f\"\\nLabel: y_true = {row['y_true']}\" if include_label else \"\")"
   ]
  },
  {
   "cell_type": "code",
   "execution_count": 5,
   "id": "ea365bf1",
   "metadata": {},
   "outputs": [],
   "source": [
    "shots = \"\\n\\n\".join([f\"example{i+1}：\\n{row_to_text(train_df.iloc[i])}\" for i in range(10)])"
   ]
  },
  {
   "cell_type": "code",
   "execution_count": 6,
   "id": "71d48409",
   "metadata": {},
   "outputs": [],
   "source": [
    "test_df = pd.read_csv(\"C:\\\\Users\\\\lu17w\\\\Downloads\\\\job_data_files\\\\work_arrangements_test_set.csv\")\n",
    "\n",
    "test_df[\"predicted\"] = \"\"\n",
    "test_df[\"true_label\"] = test_df[\"y_true\"].astype(str)\n",
    "results = []\n",
    "correct = 0\n",
    "\n",
    "for i, row in test_df.iterrows():\n",
    "    query = f\"query：\\n{row_to_text(row, include_label=False)}\\nyour_predict：y_true =\"\n",
    "\n",
    "    user_prompt = (\n",
    "        \"You are a classification assistant. Below are some job descriptions along with their corresponding work arrangement (y_true)：\\n\\n\"\n",
    "        \"Please only give me answer, no more other things,you should choose a word in OnSite, Remote and Hybrid as answer.)\"\n",
    "        # f\"{shots}\\n\\n{query}\"\n",
    "        f\"{query}\"\n",
    "    )\n",
    "\n",
    "    messages = [\n",
    "        {\"role\": \"user\", \"content\": user_prompt}\n",
    "    ]\n",
    "\n",
    "    response = client.chat.completions.create(\n",
    "        model=\"ft:gpt-4.1-mini-2025-04-14:personal:6713:BQuQ64ON\",\n",
    "        # model='gpt-4.1-mini',\n",
    "        messages=messages,\n",
    "        max_tokens=30,\n",
    "        temperature=0.7\n",
    "    )\n",
    "\n",
    "    prediction = response.choices[0].message.content.strip().split(\"\\n\")[0]\n",
    "\n",
    "\n",
    "    results.append({\n",
    "        \"index\": i,\n",
    "        \"predicted\": prediction,\n",
    "        \"true_label\": str(row[\"y_true\"])\n",
    "    })\n",
    "    if prediction == str(row[\"y_true\"]):\n",
    "        correct += 1\n",
    "    if (i + 1) % 100 == 0:\n",
    "        checkpoint_df = pd.DataFrame(results)\n",
    "        filename = f\"gpt4mini/gpt-4.1-mini-work_predictions_zeroshot.csv\"\n",
    "        checkpoint_df.to_csv(filename, index=False)\n",
    "        print(f\"{i+1}, save result to：{filename}\")\n",
    "    number = i+1\n",
    "\n",
    "filename = f\"gpt4mini/gpt-4.1-mini-work_predictions_zeroshot.csv\"\n",
    "final_df = pd.DataFrame(results)\n",
    "final_df.to_csv(filename, index=False)"
   ]
  },
  {
   "cell_type": "code",
   "execution_count": 7,
   "id": "da8b0450",
   "metadata": {},
   "outputs": [
    {
     "name": "stdout",
     "output_type": "stream",
     "text": [
      "accuracy：94.95%\n",
      "save result to：gpt4mini/gpt-4.1-mini-work_predictions_zeroshot.csv\n"
     ]
    }
   ],
   "source": [
    "accuracy = correct / number\n",
    "print(f\"accuracy：{accuracy:.2%}\")\n",
    "print(f\"save result to：{filename}\")\n"
   ]
  }
 ],
 "metadata": {
  "kernelspec": {
   "display_name": "Python 3",
   "language": "python",
   "name": "python3"
  },
  "language_info": {
   "codemirror_mode": {
    "name": "ipython",
    "version": 3
   },
   "file_extension": ".py",
   "mimetype": "text/x-python",
   "name": "python",
   "nbconvert_exporter": "python",
   "pygments_lexer": "ipython3",
   "version": "3.11.0"
  }
 },
 "nbformat": 4,
 "nbformat_minor": 5
}
