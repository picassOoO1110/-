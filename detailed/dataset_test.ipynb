{
 "cells": [
  {
   "cell_type": "code",
   "execution_count": 3,
   "id": "184fc212",
   "metadata": {},
   "outputs": [],
   "source": [
    "import pandas as pd\n",
    "import re\n",
    "import json\n",
    "from bs4 import BeautifulSoup"
   ]
  },
  {
   "cell_type": "code",
   "execution_count": 4,
   "id": "b07b7251",
   "metadata": {},
   "outputs": [],
   "source": [
    "# Load datasets\n",
    "seniority_df = pd.read_csv(\"/root/autodl-tmp/data/seniority_labelled_test_set.csv\")\n",
    "work_df = pd.read_csv(\"/root/autodl-tmp/data/work_arrangements_test_set.csv\")\n",
    "salary_df = pd.read_csv(\"/root/autodl-tmp/data/salary_labelled_test_set.csv\")"
   ]
  },
  {
   "cell_type": "code",
   "execution_count": 5,
   "id": "5c3cb4be",
   "metadata": {},
   "outputs": [],
   "source": [
    "# HTML cleaner for salary dataset\n",
    "def clean_html(raw_html):\n",
    "    return BeautifulSoup(str(raw_html), \"html.parser\").get_text()"
   ]
  },
  {
   "cell_type": "code",
   "execution_count": 6,
   "id": "1e5af078",
   "metadata": {},
   "outputs": [],
   "source": [
    "# Generate alpaca format for seniority\n",
    "seniority_data = []\n",
    "for _, row in seniority_df.iterrows():\n",
    "    input_text = f\"Job Title: {row['job_title']}\\nSummary: {row['job_summary']}\\nDetails: {row['job_ad_details']}\\nClassification: {row['classification_name']}\\nSubclassification: {row['subclassification_name']}\"\n",
    "    item = {\n",
    "        \"instruction\": \"You are a classification assistant. Below are some job descriptions along with their corresponding seniorities (y_true):\\n\\nPlease only give me answer, no more other things,like experienced, intermediate, senior, entry level, assistant, lead, head, junior and so on.\",\n",
    "        \"input\": input_text,\n",
    "        \"output\": row['y_true']\n",
    "    }\n",
    "    seniority_data.append(item)"
   ]
  },
  {
   "cell_type": "code",
   "execution_count": 7,
   "id": "d4fd800d",
   "metadata": {},
   "outputs": [],
   "source": [
    "# Generate alpaca format for work arrangement\n",
    "work_data = []\n",
    "for _, row in work_df.iterrows():\n",
    "    item = {\n",
    "        \"instruction\": \"You are a classification assistant. Below are some job descriptions along with their corresponding work arrangement (y_true):\\n\\nPlease only give me answer, no more other things,you should choose a word in OnSite, Remote and Hybrid as answer.\",\n",
    "        \"input\": row['job_ad'],\n",
    "        \"output\": row['y_true']\n",
    "    }\n",
    "    work_data.append(item)"
   ]
  },
  {
   "cell_type": "code",
   "execution_count": 8,
   "id": "1b563715",
   "metadata": {},
   "outputs": [],
   "source": [
    "# Generate alpaca format for salary\n",
    "salary_data = []\n",
    "for _, row in salary_df.iterrows():\n",
    "    details_clean = clean_html(row['job_ad_details'])\n",
    "    input_text = f\"Job Title: {row['job_title']}\\nDetails: {details_clean}\\nCountry: {row['nation_short_desc']}\\nAdditional Info: {row['salary_additional_text']}\"\n",
    "    item = {\n",
    "        \"instruction\": \"You are a classification assistant. Below are some job descriptions along with their corresponding salaries (y_true):\\n\\nPlease only give me answer, no more other things. The structure should be like 100-200-AUS-MONTHLY. (No commas are required between numbers) If you think there is no mention of salary, please give me 0-0-None-None.\",\n",
    "        \"input\": input_text,\n",
    "        \"output\": row['y_true']\n",
    "    }\n",
    "    salary_data.append(item)"
   ]
  },
  {
   "cell_type": "code",
   "execution_count": 9,
   "id": "11f10b1f",
   "metadata": {},
   "outputs": [],
   "source": [
    "# Save to JSONL\n",
    "with open(\"/root/autodl-tmp/data/seniority_alpaca_test.jsonl\", \"w\") as f:\n",
    "    for item in seniority_data:\n",
    "        f.write(json.dumps(item, ensure_ascii=False) + \"\\n\")\n",
    "\n",
    "with open(\"/root/autodl-tmp/data/work_alpaca_test.jsonl\", \"w\") as f:\n",
    "    for item in work_data:\n",
    "        f.write(json.dumps(item, ensure_ascii=False) + \"\\n\")\n",
    "\n",
    "with open(\"/root/autodl-tmp/data/salary_alpaca_test.jsonl\", \"w\") as f:\n",
    "    for item in salary_data:\n",
    "        f.write(json.dumps(item, ensure_ascii=False) + \"\\n\")"
   ]
  },
  {
   "cell_type": "code",
   "execution_count": 10,
   "id": "5b9dd490",
   "metadata": {},
   "outputs": [],
   "source": [
    "all_data = seniority_data + work_data + salary_data\n",
    "\n",
    "# Save combined data to a single JSONL file\n",
    "output_path = \"/root/autodl-tmp/data/combined_data_test.jsonl\"\n",
    "with open(output_path, \"w\", encoding=\"utf-8\") as f:\n",
    "    for item in all_data:\n",
    "        f.write(json.dumps(item, ensure_ascii=False) + \"\\n\")"
   ]
  }
 ],
 "metadata": {
  "kernelspec": {
   "display_name": "base",
   "language": "python",
   "name": "python3"
  },
  "language_info": {
   "codemirror_mode": {
    "name": "ipython",
    "version": 3
   },
   "file_extension": ".py",
   "mimetype": "text/x-python",
   "name": "python",
   "nbconvert_exporter": "python",
   "pygments_lexer": "ipython3",
   "version": "3.12.3"
  }
 },
 "nbformat": 4,
 "nbformat_minor": 5
}
